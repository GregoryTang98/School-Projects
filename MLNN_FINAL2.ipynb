{
 "cells": [
  {
   "cell_type": "code",
   "execution_count": 1,
   "id": "44ec7447",
   "metadata": {},
   "outputs": [],
   "source": [
    "# Import the neccesary libraries for the model\n",
    "import os\n",
    "import pandas as pd\n",
    "import numpy as np\n",
    "\n",
    "from sklearn.preprocessing import LabelEncoder, OneHotEncoder, StandardScaler\n",
    "from sklearn.preprocessing import OneHotEncoder\n",
    "from sklearn.model_selection import train_test_split\n",
    "from sklearn.model_selection import StratifiedKFold\n",
    "from sklearn.utils.class_weight import compute_class_weight\n",
    "from sklearn.metrics import accuracy_score, precision_score, recall_score, roc_auc_score\n",
    "from sklearn.metrics import balanced_accuracy_score, confusion_matrix, ConfusionMatrixDisplay\n",
    "\n",
    "from skimage.color import rgb2gray\n",
    "from skimage.transform import resize\n",
    "\n",
    "import tensorflow as tf\n",
    "import tensorflow_datasets as tfds\n",
    "from keras.utils import np_utils\n",
    "from keras.models import Sequential\n",
    "from keras.layers import Dense, Dropout\n",
    "from keras.callbacks import EarlyStopping\n",
    "from tensorflow.keras.optimizers import RMSprop\n",
    "\n",
    "import itertools\n",
    "import matplotlib.pyplot as plt\n",
    "\n",
    "SEED = 300\n",
    "\n",
    "tf.random.set_seed(SEED)\n",
    "np.random.seed(SEED)\n",
    "\n",
    "import warnings\n",
    "warnings.filterwarnings('ignore')"
   ]
  },
  {
   "cell_type": "markdown",
   "id": "879dcc27",
   "metadata": {},
   "source": [
    "Step 1: Define the problem and collect samples and labels\n",
    "\n",
    "Step 2: Choose the success criterion and monitoring metrics\n",
    "\n",
    "Step 3: Choose validation protocol (hold-out)\n",
    "\n",
    "Step 4: Prepare data\n",
    "\n",
    "Step 5: Develop first underfitting model with stat power\n",
    "\n",
    "Step 6: Develop larger overfitting model\n",
    "\n",
    "Step 7: Regularise the overfitting model and tune hyperparameters based on performance on validation data\n",
    "\n",
    "Retrain with entire training set and evaluate on the unseen test set"
   ]
  },
  {
   "cell_type": "markdown",
   "id": "04f9ec73",
   "metadata": {},
   "source": [
    "## Defining the problem\n",
    "\n",
    "The dataset I am using has images of horses and humans. The objective of this dataset is to create a model that can predict correctly if the image is a horse or a human. This problem is called a Binary Image classification as there are two different classes to identify the image either a human or a horse. The dataset is taken from tensorflow datasets https://www.tensorflow.org/datasets/catalog/horses_or_humans.\n",
    "\n",
    "The dataset contains the images and labels.\n",
    "(Describe the data size)"
   ]
  },
  {
   "cell_type": "code",
   "execution_count": 2,
   "id": "a5c01d26",
   "metadata": {},
   "outputs": [],
   "source": [
    "DATASET = 'cats_vs_dogs'\n",
    "RESIZE = (30,30,3)\n",
    "GRAY_SCALE = True"
   ]
  },
  {
   "cell_type": "code",
   "execution_count": 3,
   "id": "1a72d56d",
   "metadata": {
    "scrolled": true
   },
   "outputs": [],
   "source": [
    "ds = tfds.load(DATASET, split='all', shuffle_files=True)\n",
    "images, labels = [], []\n",
    "for entry in ds.take(len(ds)) :\n",
    "    image, label = entry['image'], entry['label']\n",
    "    \n",
    "    image, label = image.numpy(), label.numpy()\n",
    "    \n",
    "    image = resize(image, RESIZE, anti_aliasing=True)\n",
    "            \n",
    "    if GRAY_SCALE :\n",
    "        image = rgb2gray(image)\n",
    "        \n",
    "    images.append( image )\n",
    "    labels.append( label )"
   ]
  },
  {
   "cell_type": "code",
   "execution_count": 4,
   "id": "7833554a",
   "metadata": {},
   "outputs": [
    {
     "data": {
      "text/plain": [
       "<matplotlib.image.AxesImage at 0x28fcec2d790>"
      ]
     },
     "execution_count": 4,
     "metadata": {},
     "output_type": "execute_result"
    },
    {
     "data": {
      "image/png": "[encoded data removed]",
      "text/plain": [
       "<Figure size 432x288 with 2 Axes>"
      ]
     },
     "metadata": {
      "needs_background": "light"
     },
     "output_type": "display_data"
    }
   ],
   "source": [
    "plt.subplot(1,2,1)\n",
    "plt.imshow(images[1])\n",
    "\n",
    "plt.subplot(1,2,2)\n",
    "plt.imshow(images[3])\n"
   ]
  },
  {
   "cell_type": "markdown",
   "id": "1df9ffe9",
   "metadata": {},
   "source": [
    "## Preparing data"
   ]
  },
  {
   "cell_type": "markdown",
   "id": "811877ac",
   "metadata": {},
   "source": [
    "Firstly, we have to flatten the 2D image array into a 1D array. Then we initialise the X (data) and Y(labels)."
   ]
  },
  {
   "cell_type": "code",
   "execution_count": 5,
   "id": "e8fbe573",
   "metadata": {},
   "outputs": [],
   "source": [
    "X = np.array(images)\n",
    "X = X.reshape( (X.shape[0], -1) )\n",
    "y = np.array(labels)"
   ]
  },
  {
   "cell_type": "markdown",
   "id": "76566075",
   "metadata": {},
   "source": [
    "Secondly, we split the data into training and test sets. The size of the test sets is 10% of the whole data. "
   ]
  },
  {
   "cell_type": "code",
   "execution_count": 6,
   "id": "6ff6925b",
   "metadata": {},
   "outputs": [],
   "source": [
    "TEST_SIZE = 0.2\n",
    "\n",
    "X_train, X_test, y_train, y_test = train_test_split(X, y, test_size=TEST_SIZE, stratify=y, \n",
    "                                                    random_state=SEED, shuffle=True)"
   ]
  },
  {
   "cell_type": "markdown",
   "id": "aa2e49b4",
   "metadata": {},
   "source": [
    "The pixels are normalised to be between 0 and 1 from 0 and 255"
   ]
  },
  {
   "cell_type": "code",
   "execution_count": 7,
   "id": "79a77746",
   "metadata": {},
   "outputs": [],
   "source": [
    "# normalise pixels from [0, 255] to [0, 1]\n",
    "X_train, X_test = X_train/255, X_test/255"
   ]
  },
  {
   "cell_type": "markdown",
   "id": "4f66b968",
   "metadata": {},
   "source": [
    "## Measure of Success\n",
    "\n",
    "I will be using the baseline to determine the success of the model. If the model has a higher score than the baseline, the model is a success.\n",
    "\n",
    "The baseline is the estimated probability that the model will predict the correct label. It is derived from taking the number of label of one class and dividing it with the total number of labels.\n",
    "\n",
    "There are only two classes and since the number of every labels are nearly the same, we can conclude that this is a balanced class.\n",
    "\n",
    "Based on the calculations below, the baseline accuracy is about 0.5\n",
    "Therefore, to consider the model a success, it has to have a higher than 0.5 accuracy."
   ]
  },
  {
   "cell_type": "code",
   "execution_count": 8,
   "id": "8010d201",
   "metadata": {},
   "outputs": [
    {
     "data": {
      "text/plain": [
       "23262"
      ]
     },
     "execution_count": 8,
     "metadata": {},
     "output_type": "execute_result"
    }
   ],
   "source": [
    "len(y)"
   ]
  },
  {
   "cell_type": "code",
   "execution_count": 9,
   "id": "540e49ef",
   "metadata": {},
   "outputs": [
    {
     "data": {
      "text/plain": [
       "0.5"
      ]
     },
     "execution_count": 9,
     "metadata": {},
     "output_type": "execute_result"
    }
   ],
   "source": [
    "np.sum(y), len(y)-np.sum(y)\n",
    "baseline = (len(y)-np.sum(y)) / len(y)\n",
    "balanced_baseline = balanced_accuracy_score(y_train, np.ones(len(y_train)))\n",
    "balanced_baseline"
   ]
  },
  {
   "cell_type": "markdown",
   "id": "a90b77ea",
   "metadata": {},
   "source": [
    "## Validation protocol\n",
    "For validation protocol, I have chosen a hold-out validation set method. The reason is because there is enough data to work with for the training and test sets."
   ]
  },
  {
   "cell_type": "code",
   "execution_count": 10,
   "id": "f1814872",
   "metadata": {},
   "outputs": [],
   "source": [
    "val_size = X_test.shape[0]\n",
    "\n",
    "X_train, X_val, y_train, y_val = train_test_split(X_train, y_train, \n",
    "                                                 test_size=val_size, stratify=y_train,\n",
    "                                                 shuffle=True, random_state=SEED)"
   ]
  },
  {
   "cell_type": "code",
   "execution_count": 11,
   "id": "9dc0326c",
   "metadata": {},
   "outputs": [
    {
     "data": {
      "text/plain": [
       "(4653, 900)"
      ]
     },
     "execution_count": 11,
     "metadata": {},
     "output_type": "execute_result"
    }
   ],
   "source": [
    "X_test.shape"
   ]
  },
  {
   "cell_type": "markdown",
   "id": "3ea15248",
   "metadata": {},
   "source": [
    "## Developing a model that does better than the baseline"
   ]
  },
  {
   "cell_type": "markdown",
   "id": "f52a8bb6",
   "metadata": {},
   "source": [
    "To develop a model, there are three key decisions to make. Firstly, the last-layer activation. Secondly, the loss function and lastly, the optimization configuration.\n",
    "\n",
    "In the case of this model, the last layer activation that will be used is relu and the loss function is binary_crossentropy as it is a binary classification problem. For the optimization configuration, rmsprop will be used."
   ]
  },
  {
   "cell_type": "markdown",
   "id": "43cb9a64",
   "metadata": {},
   "source": [
    "The code below constructs a neural network based on the user inputs. With this, one does not have to manually create a model but just input the variables to construct the desired model."
   ]
  },
  {
   "cell_type": "code",
   "execution_count": 12,
   "id": "cca3ad3c",
   "metadata": {},
   "outputs": [],
   "source": [
    "def custom_network(hidden_layers=0, hidden_neurons=np.nan, activation=None,\n",
    "                        dropout=np.nan, input_dimension=2, output_dimension=1,\n",
    "                        optimizer='rmsprop', loss='binary_crossentropy', metrics=['accuracy'],\n",
    "                        name=None) :\n",
    "    \n",
    "    model = Sequential()\n",
    "    for i in range(hidden_layers) :\n",
    "        model.add(Dense(hidden_neurons, \n",
    "                  activation=activation,\n",
    "                  input_shape='default' if i>1 else (input_dimension,)))\n",
    "        if ~np.isnan(dropout) :\n",
    "            model.add(Dropout(dropout))\n",
    "        \n",
    "    model.add(Dense(output_dimension,\n",
    "                    activation='sigmoid' if output_dimension==1 else 'softmax',\n",
    "                    input_shape='default' if hidden_layers>0 else (input_dimension,)))\n",
    "  \n",
    "    if name is not None :\n",
    "        model._name = name\n",
    "        \n",
    "    model.compile(optimizer=optimizer, loss=loss, metrics=metrics)\n",
    "    \n",
    "    return model"
   ]
  },
  {
   "cell_type": "markdown",
   "id": "b8051892",
   "metadata": {},
   "source": [
    "This code trains the neural network that was constructed based on the user inputs."
   ]
  },
  {
   "cell_type": "code",
   "execution_count": 13,
   "id": "17a608ed",
   "metadata": {},
   "outputs": [],
   "source": [
    "# Fitting MLP Classification Model\n",
    "def train_custom_network(model, X, y,\n",
    "                              batch_size=32, epochs=100, \n",
    "                              val_data=None, callbacks=[], seed=0) :\n",
    "    \n",
    "    #if val_data is None :\n",
    "        #X_train, X_val, y_train, y_val = train_test_split(X, y, test_size=0.2, \n",
    "                                                          #random_state=seed, shuffle=True, \n",
    "                                                          #stratify=y)\n",
    "        \n",
    "    \n",
    "    X_train, y_train, X_val, y_val = X, y, val_data[0], val_data[1]\n",
    "  \n",
    "\n",
    "    history = model.fit(X_train, y_train,\n",
    "                        batch_size=batch_size, epochs=epochs, \n",
    "                        validation_data=(X_val, y_val),\n",
    "                        callbacks=callbacks,\n",
    "                        verbose=0)\n",
    "\n",
    "    return {'model': model, \n",
    "            'val_score': model.evaluate(X_val, y_val, verbose=0)[1:], \n",
    "            'history': history }"
   ]
  },
  {
   "cell_type": "markdown",
   "id": "d3cdf7e9",
   "metadata": {},
   "source": [
    "The function below helps to plot the training and validation loss"
   ]
  },
  {
   "cell_type": "code",
   "execution_count": 14,
   "id": "11654a83",
   "metadata": {},
   "outputs": [],
   "source": [
    "def plot_trainval_loss(history, monitors=['loss', 'AUC']) :\n",
    "\n",
    "  # using the variable axs for multiple Axes\n",
    "  fig, axs = plt.subplots(1, 2, sharex='all', figsize=(15,5))\n",
    " \n",
    "  for ax, monitor in zip(axs.flat, monitors) :\n",
    "    loss, val_loss = history.history[monitor], history.history['val_' + monitor]\n",
    "\n",
    "    if monitor == 'loss' :\n",
    "      monitor = monitor.capitalize()\n",
    "\n",
    "    epochs = range(1, len(loss)+1)\n",
    "\n",
    "    ax.plot(epochs, loss, 'b.', label=monitor)\n",
    "    ax.plot(epochs, val_loss, 'r.', label='Validation ' + monitor)\n",
    "    ax.set_xlim([0, len(loss)])\n",
    "    ax.title.set_text('Training and Validation ' + monitor)\n",
    "    ax.set_xlabel('Epochs')\n",
    "    ax.set_ylabel(monitor)\n",
    "    ax.legend()\n",
    "    ax.grid()\n",
    "\n",
    "  _ = plt.show()"
   ]
  },
  {
   "cell_type": "markdown",
   "id": "cb2ce7d2",
   "metadata": {},
   "source": [
    "To develop a model that does better than the baseline, a model with a single layer should be more than sufficient to achieve an accuracy more than the baseline of 0.5. Thus, a single layer perceptron is suitable for this.\n",
    "\n",
    "Single layer perceptron is a simple neural network that can classify only linear seperable problems that has a binary classes of zeros and ones[1].\n",
    "Ref [1] from https://www.saedsayad.com/artificial_neural_network_bkp.htm#:~:text=A%20single%20layer%20perceptron%20(SLP,target%20(1%20%2C%200)."
   ]
  },
  {
   "cell_type": "code",
   "execution_count": 15,
   "id": "6fcca8a9",
   "metadata": {},
   "outputs": [],
   "source": [
    "input_d = X_train.shape[1]\n",
    "output_d = 1\n",
    "\n",
    "OPTIMIZER = 'RMSprop'\n",
    "LOSS = 'binary_crossentropy'\n",
    "METRICS = ['accuracy', \n",
    "           tf.keras.metrics.Precision(name='precision'), \n",
    "           tf.keras.metrics.Recall(name='recall'),\n",
    "           tf.keras.metrics.AUC(name='auc')]"
   ]
  },
  {
   "cell_type": "code",
   "execution_count": 16,
   "id": "d23dbbd4",
   "metadata": {},
   "outputs": [
    {
     "name": "stdout",
     "output_type": "stream",
     "text": [
      "Model: \"Underfitting_Model\"\n",
      "_________________________________________________________________\n",
      " Layer (type)                Output Shape              Param #   \n",
      "=================================================================\n",
      " dense (Dense)               (None, 1)                 901       \n",
      "                                                                 \n",
      "=================================================================\n",
      "Total params: 901\n",
      "Trainable params: 901\n",
      "Non-trainable params: 0\n",
      "_________________________________________________________________\n"
     ]
    }
   ],
   "source": [
    "learn_rate = 0.004\n",
    "\n",
    "underfit_model = custom_network(hidden_layers=0, hidden_neurons=64,\n",
    "                                activation='sigmoid',\n",
    "                                input_dimension=input_d, output_dimension=output_d,\n",
    "                                optimizer=RMSprop(learning_rate=learn_rate), \n",
    "                                metrics=METRICS,\n",
    "                                name='Underfitting_Model')\n",
    "\n",
    "underfit_model.summary()"
   ]
  },
  {
   "cell_type": "code",
   "execution_count": 17,
   "id": "b4b9a96b",
   "metadata": {},
   "outputs": [],
   "source": [
    "batch_size = 128\n",
    "EPOCHS = 500\n",
    "\n",
    "MONITOR = 'val_loss'\n",
    "PATIENCE = 10\n",
    "\n",
    "EARLY_STOP = EarlyStopping(monitor=MONITOR, restore_best_weights=True, \n",
    "                           patience=PATIENCE, verbose=0)"
   ]
  },
  {
   "cell_type": "code",
   "execution_count": 18,
   "id": "df05f9e1",
   "metadata": {},
   "outputs": [],
   "source": [
    "trained_underfit_model = train_custom_network(underfit_model, X_train, y_train,\n",
    "                                              batch_size=batch_size, epochs=EPOCHS, \n",
    "                                              val_data=(X_val, y_val), \n",
    "                                              callbacks=[EARLY_STOP], seed=SEED)"
   ]
  },
  {
   "cell_type": "code",
   "execution_count": 19,
   "id": "bfaebb73",
   "metadata": {
    "scrolled": true
   },
   "outputs": [
    {
     "name": "stdout",
     "output_type": "stream",
     "text": [
      "Accuracy (Validation): 0.58 (baseline=0.50)\n",
      "Precision (Validation): 0.58\n",
      "Recall (Validation): 0.58\n",
      "AUC (Validation): 0.61\n"
     ]
    }
   ],
   "source": [
    "print('Accuracy (Validation): {:.2f} (baseline={:.2f})'.format(trained_underfit_model['val_score'][0], baseline))\n",
    "print('Precision (Validation): {:.2f}'.format(trained_underfit_model['val_score'][1]))\n",
    "print('Recall (Validation): {:.2f}'.format(trained_underfit_model['val_score'][2]))\n",
    "print('AUC (Validation): {:.2f}'.format(trained_underfit_model['val_score'][3]))"
   ]
  },
  {
   "cell_type": "markdown",
   "id": "bd44d60b",
   "metadata": {},
   "source": [
    "The underfitting model has an accuracy of 0.55 when used to test on the validation data. This shows that the model is successful in achieving an accuracy that is higher than the baseline of 0.5 despite it being a single layer model. "
   ]
  },
  {
   "cell_type": "code",
   "execution_count": 20,
   "id": "a3990da4",
   "metadata": {},
   "outputs": [
    {
     "name": "stdout",
     "output_type": "stream",
     "text": [
      "Balanced Accuracy (Validation): 0.58 (baseline=0.50)\n"
     ]
    }
   ],
   "source": [
    "preds = trained_underfit_model['model'].predict(X_val, verbose=0)\n",
    "\n",
    "print('Balanced Accuracy (Validation): {:.2f} (baseline={:.2f})'.format(balanced_accuracy_score(y_val, (preds > 0.5).astype('int32')), balanced_baseline))"
   ]
  },
  {
   "cell_type": "code",
   "execution_count": 21,
   "id": "0cf2b811",
   "metadata": {
    "scrolled": true
   },
   "outputs": [
    {
     "data": {
      "image/png": "[encoded data removed]",
      "text/plain": [
       "<Figure size 1080x360 with 2 Axes>"
      ]
     },
     "metadata": {
      "needs_background": "light"
     },
     "output_type": "display_data"
    }
   ],
   "source": [
    "plot_trainval_loss(trained_underfit_model['history'], monitors=['loss', 'auc'])"
   ]
  },
  {
   "cell_type": "markdown",
   "id": "e784040f",
   "metadata": {},
   "source": [
    "## Developing an overfitting model\n",
    "To construct an overfitting model, we would have to add more layers into the model, increase the number of layers and train the model for even longer epochs."
   ]
  },
  {
   "cell_type": "code",
   "execution_count": 22,
   "id": "f885e169",
   "metadata": {},
   "outputs": [
    {
     "name": "stdout",
     "output_type": "stream",
     "text": [
      "Model: \"Overfitting_Model\"\n",
      "_________________________________________________________________\n",
      " Layer (type)                Output Shape              Param #   \n",
      "=================================================================\n",
      " dense_1 (Dense)             (None, 64)                57664     \n",
      "                                                                 \n",
      " dense_2 (Dense)             (None, 64)                4160      \n",
      "                                                                 \n",
      " dense_3 (Dense)             (None, 1)                 65        \n",
      "                                                                 \n",
      "=================================================================\n",
      "Total params: 61,889\n",
      "Trainable params: 61,889\n",
      "Non-trainable params: 0\n",
      "_________________________________________________________________\n"
     ]
    }
   ],
   "source": [
    "learn_rate = 0.004\n",
    "\n",
    "overfit_model = custom_network(hidden_layers=2, hidden_neurons=64,\n",
    "                                activation='relu',\n",
    "                                input_dimension=input_d, output_dimension=output_d,\n",
    "                                optimizer=RMSprop(learning_rate=learn_rate), \n",
    "                                loss=LOSS, metrics=METRICS,\n",
    "                                name='Overfitting_Model')\n",
    "\n",
    "overfit_model.summary()"
   ]
  },
  {
   "cell_type": "code",
   "execution_count": 23,
   "id": "1d84a8b6",
   "metadata": {},
   "outputs": [],
   "source": [
    "trained_overfit_model = train_custom_network(overfit_model, X_train, y_train,\n",
    "                                              batch_size=batch_size, epochs=EPOCHS, \n",
    "                                              val_data=(X_val, y_val), \n",
    "                                              callbacks=[], seed=SEED)"
   ]
  },
  {
   "cell_type": "code",
   "execution_count": 24,
   "id": "e3ee7ca7",
   "metadata": {
    "scrolled": true
   },
   "outputs": [
    {
     "data": {
      "image/png": "[encoded data removed]",
      "text/plain": [
       "<Figure size 1080x360 with 2 Axes>"
      ]
     },
     "metadata": {
      "needs_background": "light"
     },
     "output_type": "display_data"
    }
   ],
   "source": [
    "plot_trainval_loss(trained_overfit_model['history'], monitors=['loss', 'auc'])"
   ]
  },
  {
   "cell_type": "code",
   "execution_count": 25,
   "id": "99581c59",
   "metadata": {},
   "outputs": [
    {
     "name": "stdout",
     "output_type": "stream",
     "text": [
      "Accuracy (Validation): 0.60 (baseline=0.50)\n",
      "Precision (Validation): 0.59\n",
      "Recall (Validation): 0.69\n",
      "AUC (Validation): 0.64\n"
     ]
    }
   ],
   "source": [
    "print('Accuracy (Validation): {:.2f} (baseline={:.2f})'.format(trained_overfit_model['val_score'][0], baseline))\n",
    "print('Precision (Validation): {:.2f}'.format(trained_overfit_model['val_score'][1]))\n",
    "print('Recall (Validation): {:.2f}'.format(trained_overfit_model['val_score'][2]))\n",
    "print('AUC (Validation): {:.2f}'.format(trained_overfit_model['val_score'][3]))"
   ]
  },
  {
   "cell_type": "markdown",
   "id": "4e816bab",
   "metadata": {},
   "source": [
    "## Regularise the overfitting model and tune hyperparameters based on performance on validation data\n",
    "\n",
    "Using the overfitted model, we will regularlise it and tune the hyperparameters to achieve the optimum model. There are various methods to tune the model and they are, adding droput, adding L1 and L2 regularization, try removing or adding layers, trying various hyperparameters to achieve the satisfied result.\n",
    "\n",
    "I will be using grid search cross validation method to find the desired parameters from the various different parameters in the grid. With this, one does not have to try and error, inputting many different parameters manually to achieve the optimal model which can be very time consuming. Instead, the grid search cross validation method will produce a table of parameters displaying their results which I can choose from to achieve the optimal model.\n",
    "\n",
    "The regularization method I will use is the dropout method. A dropout layer will be added into the model. The reason why the dropout method is chosen is because it is simple and effective to implement. It helps to reduce the overfitting. In addition to this, reducing the learning rate will also help reduce the overfitting."
   ]
  },
  {
   "cell_type": "markdown",
   "id": "f246e5c3",
   "metadata": {},
   "source": [
    "Dataframe_format is a helper function which will help to format the results from the grid search into a dataframe which makes it easier to read the data."
   ]
  },
  {
   "cell_type": "code",
   "execution_count": 26,
   "id": "1106ab71",
   "metadata": {},
   "outputs": [],
   "source": [
    "def dataframe_format(stats, mapping) :\n",
    "    entries = []\n",
    "    for param, metrics in stats.items() :\n",
    "        entry = eval(param)\n",
    "        for key, value in metrics.items() :\n",
    "            entry[key] = value\n",
    "        \n",
    "        for key, value in mapping.items() :\n",
    "            entry[value] = entry['scores'][key]\n",
    "            \n",
    "        entry.pop('scores') \n",
    "        \n",
    "        entries.append( entry )\n",
    "\n",
    "    return pd.DataFrame(data=entries)"
   ]
  },
  {
   "cell_type": "markdown",
   "id": "42c66a16",
   "metadata": {},
   "source": [
    "grid_search is a function which will run a grid search on the model finding the best parameters for an optimal model"
   ]
  },
  {
   "cell_type": "code",
   "execution_count": 31,
   "id": "34281867",
   "metadata": {},
   "outputs": [],
   "source": [
    "def grid_search(X, y,\n",
    "                   space, cv, \n",
    "                   learning_rate, loss, metrics, \n",
    "                   epochs, callbacks=[], seed=0, \n",
    "                   order={}) :\n",
    "    \n",
    "    keys, values = zip(*space.items())\n",
    "    \n",
    "    stats = {}\n",
    "    for params in [dict(zip(keys, v)) for v in itertools.product(*values)] :\n",
    "        kfold = StratifiedKFold(n_splits=cv, shuffle=True, random_state=seed)\n",
    "        \n",
    "        scores, stopped, losses = [], [], []\n",
    "        for train, validate in kfold.split(X, y) :\n",
    "            model = custom_network(hidden_layers=params['hidden_layers'], \n",
    "                                        hidden_neurons=params['neurons'], \n",
    "                                        activation=params['activation'], \n",
    "                                        dropout=params['dropout'], \n",
    "                                        input_dimension=X.shape[1], \n",
    "                                        output_dimension=1 if len(y.shape)<2 else y.shape[1],\n",
    "                                        optimizer=RMSprop(learning_rate=learn_rate), \n",
    "                                        loss=loss, metrics=metrics)\n",
    "      \n",
    "            trained = train_custom_network(model, \n",
    "                                                X[train,:], y[train],\n",
    "                                                batch_size=params['batch_size'], epochs=epochs, \n",
    "                                                val_data=(X[validate,:], y[validate]), \n",
    "                                                callbacks=callbacks, seed=seed) \n",
    "            \n",
    "            evaluations = trained['model'].evaluate(X[validate,:], y[validate], verbose=0)[1:]\n",
    "                        \n",
    "            scores.append( evaluations )\n",
    "            stopped.append( len(trained['history'].history['val_loss']) )\n",
    "            losses.append( np.min(trained['history'].history['val_loss']) )\n",
    "        \n",
    "        stats[str(params)] = { 'scores': np.mean(scores, axis=0), \n",
    "                               'epochs': np.mean(stopped), \n",
    "                               'val_loss': np.mean(losses) }\n",
    "    \n",
    "    return dataframe_format(stats, order)"
   ]
  },
  {
   "cell_type": "code",
   "execution_count": 32,
   "id": "589b901c",
   "metadata": {},
   "outputs": [],
   "source": [
    "orders = {\n",
    "    0: 'accuracy',              \n",
    "    1: 'precision',\n",
    "    2: 'recall',\n",
    "    3: 'auc',\n",
    "}"
   ]
  },
  {
   "cell_type": "code",
   "execution_count": 33,
   "id": "74a97abe",
   "metadata": {},
   "outputs": [],
   "source": [
    "KFOLDS = 5"
   ]
  },
  {
   "cell_type": "code",
   "execution_count": 43,
   "id": "2f3f4e82",
   "metadata": {},
   "outputs": [],
   "source": [
    "params = {\n",
    "    'hidden_layers': [1, 2, 3],\n",
    "    'neurons': [64],\n",
    "    'activation': ['relu'],\n",
    "    'dropout': [0.2],\n",
    "    'batch_size': [128]\n",
    "}\n",
    "\n",
    "learn_rate = 0.002\n",
    "epochs = 500\n",
    "\n",
    "stats = grid_search(X_train, y_train,  \n",
    "                       space=params, cv=KFOLDS, \n",
    "                       learning_rate=learn_rate, \n",
    "                       loss=LOSS, metrics=METRICS, \n",
    "                       epochs=epochs, callbacks=[EARLY_STOP], seed=SEED,\n",
    "                       order=orders)"
   ]
  },
  {
   "cell_type": "code",
   "execution_count": 44,
   "id": "b5ddae88",
   "metadata": {
    "scrolled": true
   },
   "outputs": [
    {
     "data": {
      "text/html": [
       "<div>\n",
       "<style scoped>\n",
       "    .dataframe tbody tr th:only-of-type {\n",
       "        vertical-align: middle;\n",
       "    }\n",
       "\n",
       "    .dataframe tbody tr th {\n",
       "        vertical-align: top;\n",
       "    }\n",
       "\n",
       "    .dataframe thead th {\n",
       "        text-align: right;\n",
       "    }\n",
       "</style>\n",
       "<table border=\"1\" class=\"dataframe\">\n",
       "  <thead>\n",
       "    <tr style=\"text-align: right;\">\n",
       "      <th></th>\n",
       "      <th>hidden_layers</th>\n",
       "      <th>neurons</th>\n",
       "      <th>activation</th>\n",
       "      <th>dropout</th>\n",
       "      <th>batch_size</th>\n",
       "      <th>epochs</th>\n",
       "      <th>val_loss</th>\n",
       "      <th>accuracy</th>\n",
       "      <th>precision</th>\n",
       "      <th>recall</th>\n",
       "      <th>auc</th>\n",
       "    </tr>\n",
       "  </thead>\n",
       "  <tbody>\n",
       "    <tr>\n",
       "      <th>1</th>\n",
       "      <td>2</td>\n",
       "      <td>64</td>\n",
       "      <td>relu</td>\n",
       "      <td>0.2</td>\n",
       "      <td>128</td>\n",
       "      <td>49.2</td>\n",
       "      <td>0.653766</td>\n",
       "      <td>0.611922</td>\n",
       "      <td>0.600326</td>\n",
       "      <td>0.672233</td>\n",
       "      <td>0.657180</td>\n",
       "    </tr>\n",
       "    <tr>\n",
       "      <th>2</th>\n",
       "      <td>3</td>\n",
       "      <td>64</td>\n",
       "      <td>relu</td>\n",
       "      <td>0.2</td>\n",
       "      <td>128</td>\n",
       "      <td>56.8</td>\n",
       "      <td>0.654660</td>\n",
       "      <td>0.615863</td>\n",
       "      <td>0.607680</td>\n",
       "      <td>0.659878</td>\n",
       "      <td>0.656678</td>\n",
       "    </tr>\n",
       "    <tr>\n",
       "      <th>0</th>\n",
       "      <td>1</td>\n",
       "      <td>64</td>\n",
       "      <td>relu</td>\n",
       "      <td>0.2</td>\n",
       "      <td>128</td>\n",
       "      <td>107.0</td>\n",
       "      <td>0.656617</td>\n",
       "      <td>0.608053</td>\n",
       "      <td>0.592223</td>\n",
       "      <td>0.688875</td>\n",
       "      <td>0.649954</td>\n",
       "    </tr>\n",
       "  </tbody>\n",
       "</table>\n",
       "</div>"
      ],
      "text/plain": [
       "   hidden_layers  neurons activation  dropout  batch_size  epochs  val_loss  \\\n",
       "1              2       64       relu      0.2         128    49.2  0.653766   \n",
       "2              3       64       relu      0.2         128    56.8  0.654660   \n",
       "0              1       64       relu      0.2         128   107.0  0.656617   \n",
       "\n",
       "   accuracy  precision    recall       auc  \n",
       "1  0.611922   0.600326  0.672233  0.657180  \n",
       "2  0.615863   0.607680  0.659878  0.656678  \n",
       "0  0.608053   0.592223  0.688875  0.649954  "
      ]
     },
     "execution_count": 44,
     "metadata": {},
     "output_type": "execute_result"
    }
   ],
   "source": [
    "stats.sort_values(by=['auc'], ascending=False)"
   ]
  },
  {
   "cell_type": "code",
   "execution_count": 51,
   "id": "a82add6e",
   "metadata": {},
   "outputs": [
    {
     "name": "stdout",
     "output_type": "stream",
     "text": [
      "Model: \"Optimal_Model\"\n",
      "_________________________________________________________________\n",
      " Layer (type)                Output Shape              Param #   \n",
      "=================================================================\n",
      " dense_127 (Dense)           (None, 64)                57664     \n",
      "                                                                 \n",
      " dropout_81 (Dropout)        (None, 64)                0         \n",
      "                                                                 \n",
      " dense_128 (Dense)           (None, 64)                4160      \n",
      "                                                                 \n",
      " dropout_82 (Dropout)        (None, 64)                0         \n",
      "                                                                 \n",
      " dense_129 (Dense)           (None, 1)                 65        \n",
      "                                                                 \n",
      "=================================================================\n",
      "Total params: 61,889\n",
      "Trainable params: 61,889\n",
      "Non-trainable params: 0\n",
      "_________________________________________________________________\n"
     ]
    }
   ],
   "source": [
    "opt_model = custom_network(hidden_layers=2, hidden_neurons=64,\n",
    "                                dropout=0.2, activation='relu',\n",
    "                                input_dimension=input_d, output_dimension=output_d,\n",
    "                                optimizer=RMSprop(learning_rate=learn_rate), \n",
    "                                loss=LOSS, metrics=METRICS,\n",
    "                                name='Optimal_Model')\n",
    "\n",
    "opt_model.summary()"
   ]
  },
  {
   "cell_type": "code",
   "execution_count": 52,
   "id": "60c9a26b",
   "metadata": {},
   "outputs": [],
   "source": [
    "trained_opt_model = train_custom_network(opt_model, X_train, y_train,\n",
    "                                              batch_size=batch_size, epochs=EPOCHS, \n",
    "                                              val_data=(X_val, y_val), \n",
    "                                              callbacks=[EARLY_STOP], seed=SEED)"
   ]
  },
  {
   "cell_type": "code",
   "execution_count": 57,
   "id": "02ef8452",
   "metadata": {
    "scrolled": true
   },
   "outputs": [
    {
     "data": {
      "image/png": "[encoded data removed]",
      "text/plain": [
       "<Figure size 1080x360 with 2 Axes>"
      ]
     },
     "metadata": {
      "needs_background": "light"
     },
     "output_type": "display_data"
    }
   ],
   "source": [
    "plot_trainval_loss(trained_opt_model['history'], monitors=['loss', 'auc'])"
   ]
  },
  {
   "cell_type": "code",
   "execution_count": 58,
   "id": "8c6cf27f",
   "metadata": {},
   "outputs": [
    {
     "name": "stdout",
     "output_type": "stream",
     "text": [
      "Accuracy (Validation): 0.62 (baseline=0.50)\n",
      "Precision (Validation): 0.61\n",
      "Recall (Validation): 0.67\n",
      "AUC (Validation): 0.67\n"
     ]
    }
   ],
   "source": [
    "print('Accuracy (Validation): {:.2f} (baseline={:.2f})'.format(trained_opt_model['val_score'][0], baseline))\n",
    "print('Precision (Validation): {:.2f}'.format(trained_opt_model['val_score'][1]))\n",
    "print('Recall (Validation): {:.2f}'.format(trained_opt_model['val_score'][2]))\n",
    "print('AUC (Validation): {:.2f}'.format(trained_opt_model['val_score'][3]))"
   ]
  },
  {
   "cell_type": "code",
   "execution_count": 59,
   "id": "ca0b3a3b",
   "metadata": {
    "scrolled": true
   },
   "outputs": [
    {
     "name": "stdout",
     "output_type": "stream",
     "text": [
      "Accuracy (Test): 0.62 (baseline=0.50)\n",
      "Precision (Test): 0.62\n",
      "Recall (Test): 0.65\n",
      "AUC (Test): 0.67\n"
     ]
    }
   ],
   "source": [
    "preds = trained_opt_model['model'].predict(X_test, verbose=0)\n",
    "\n",
    "print('Accuracy (Test): {:.2f} (baseline={:.2f})'.format(accuracy_score(y_test, (preds > 0.5).astype('int32')), baseline))\n",
    "print('Precision (Test): {:.2f}'.format(precision_score(y_test, (preds > 0.5).astype('int32'))))\n",
    "print('Recall (Test): {:.2f}'.format(recall_score(y_test, (preds > 0.5).astype('int32'))))\n",
    "print('AUC (Test): {:.2f}'.format(roc_auc_score(y_test, preds)))"
   ]
  },
  {
   "cell_type": "code",
   "execution_count": 60,
   "id": "7e885682",
   "metadata": {
    "scrolled": false
   },
   "outputs": [
    {
     "data": {
      "image/png": "[encoded data removed]",
      "text/plain": [
       "<Figure size 432x288 with 2 Axes>"
      ]
     },
     "metadata": {
      "needs_background": "light"
     },
     "output_type": "display_data"
    }
   ],
   "source": [
    "disp = ConfusionMatrixDisplay( confusion_matrix(y_test, (preds > 0.5).astype('int32')) )\n",
    "_ = disp.plot()"
   ]
  },
  {
   "cell_type": "markdown",
   "id": "f99ab2bc",
   "metadata": {},
   "source": [
    "## Summary\n",
    "From the results above, it shows that the model is successful as it has a higher accuracy than the baseline score. \n",
    "\n",
    "The optimal model is made up of three layers consisting of two dense layers with 64 neurons and a dense layer with a single neuron. It also has two dropout layers which helps to prevent the model from overfitting. \n",
    "\n"
   ]
  },
  {
   "cell_type": "markdown",
   "id": "b653de4b",
   "metadata": {},
   "source": [
    "### Things to do\n",
    "- Adjust the learning rate\n",
    "- Tweak the variable names\n",
    "- Comment more on the results\n",
    "- Understand more of the model"
   ]
  }
 ],
 "metadata": {
  "kernelspec": {
   "display_name": "Python 3 (ipykernel)",
   "language": "python",
   "name": "python3"
  },
  "language_info": {
   "codemirror_mode": {
    "name": "ipython",
    "version": 3
   },
   "file_extension": ".py",
   "mimetype": "text/x-python",
   "name": "python",
   "nbconvert_exporter": "python",
   "pygments_lexer": "ipython3",
   "version": "3.9.13"
  }
 },
 "nbformat": 4,
 "nbformat_minor": 5
}
