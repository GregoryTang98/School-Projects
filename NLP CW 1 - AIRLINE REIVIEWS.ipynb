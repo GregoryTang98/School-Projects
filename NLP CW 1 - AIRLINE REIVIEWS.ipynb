{
 "cells": [
  {
   "cell_type": "markdown",
   "id": "db767cea",
   "metadata": {},
   "source": [
    "Natural Language Processing Mid-Term Project\n",
    "=="
   ]
  },
  {
   "cell_type": "markdown",
   "id": "52cf7240",
   "metadata": {},
   "source": [
    "I. Introduction\n",
    "==\n",
    "Since the outbreak of covid-19 at the end of the year 2019, the world went into lockdown, everyone had to stay in place and shelter in their homes to lower the spread of the deadly disease. Thus, tourism took a back seat, no one could travel overseas for holidays and vacations,this led to airlines taking a big hit to their profits due to no one taking flights overseas.  \n",
    "\n",
    "Now, the world is finally returning to normal after the covid-19 pandemic, borders are opening up again and many countries are looking to reinvigorate their tourism industry, more and more people trying to find flights to other countries to take their long awaited holidays and vacations overseas.\n",
    "The airline industry plays a major role in connecting people across countries, with millions of passengers everyday, airlines strive to provide good customer experiences to maintain their reputation and be competitive. Similarly customers also look for the best airlines when travelling so as to have a good start and end to their holidays.\n",
    "\n",
    "With today's age of social media, and multiple outlets of information, passengers can very easily share their opinions online. Both airlines and their passengers can extract important information from these opinions, such as why passengers are choosing a certain airline over another airline.\n",
    "\n",
    "The analysis of airline reviews using sentiment analysis can extract the sentiment or attitude of the opinions posted on social media platforms or other websites. Sentiment analysis can identify trends and areas for improvement, influencing both airlines and passengers in their decision making process, leading to passengers choosing a certain airline over another, or airline making changes to better suit the passengers.\n",
    "\n",
    "Using sentiment analysis for airline reviews can pose certain challenges, as the reviews tend to be in natural language which has high complexity and is very nuanced. Passengers write their reviews with a wide range of vocabulary, sometimes using sarcasm and references. Furthermore, the airline reviews contain specific terminology, requiring domain knowledge relating to flights for accurate sentiment analysis.\n",
    "\n",
    "Sentiment analysis for airline reviews can be a powerful tool for airlines to identify actionable insights from reviews, to make changes to enhance customer experience, for the passengers sentiment analysis can help to identify why certain airlines are more popular and trustworthy when going overseas.\n"
   ]
  },
  {
   "cell_type": "markdown",
   "id": "e0059cae",
   "metadata": {},
   "source": [
    "Domain-Specific area\n",
    "--\n",
    "With the growing number of passengers, there is also a significant growth in airline reviews. With every passenger leaving their reviews online it can be hard to tell what the consensus is for an airline without going through each website or social media platform and reading through each and every review of an airline.\n",
    "\n",
    "Text classification with a sentiment analysis model, would automate the process of categorising and organising the large amount of reviews. By training the model of airline reviews, the model would then be able to categorise reviews into positive, negative or neutral. This allows both the passenger and airline to obtain a consensus.\n",
    "\n",
    "The trained sentiment analysis model can also provide real time analysis of reviews, giving continuous feedback allowing for prompt response to negative reviews.\n",
    "\n",
    "with a generalised sentiment analysis model for airline reviews, comparative analysis across airlines would allow passengers to identify the strengths and weaknesses of each airline, giving them the choice to make an informed decision for their transportation of choice.\n",
    "\n",
    "By using a sentiment analysis model to reduce the time needed to go through reviews, allows for extraction of valuable insights to make data-driven decisions, improving time and allowing airlines to proactively address passenger needs, and passengers can also select the airline which best suits them.\n"
   ]
  },
  {
   "cell_type": "markdown",
   "id": "97d77073",
   "metadata": {},
   "source": [
    "Objectives\n",
    "--\n",
    "As per aforementioned, the objective is to design and implement a tailored sentiment analysis model for airline reviews which can accurately categorise airline reviews into positive, negative and neutral reviews. \n",
    "\n",
    "To allow the model to extract the correct features of each airline review, data preprocessing must be done, ensuring meaningless and redundant data is removed and pruned, feeding the model only appropriate data.\n",
    "\n",
    "Choosing a baseline to beat will help verify that the model is able to perform well, and ensure that the model is improving.\n",
    "\n",
    "Proper selection of a machine learning model must be done, to ensure that the model is suited to sentiment analysis, in this project it would be a problem of multiclass single label classification.\n",
    "\n",
    "To achieve the above stated, the model would need to be trained on a dataset of airline reviews, then the model hyper parameter can be tuned as required.\n",
    "\n",
    "Data visualisation will be done to provide insights on the data being used to train the model, as well as to visualise the result of the model, to display its efficacy in categorising airline reviews.\n",
    "\n",
    "With the created sentiment analysis model, categorisation of airline reviews can be automated, allowing efforts to be reallocated to create a better customer experience and passengers will be able to find the best airline.\n"
   ]
  },
  {
   "cell_type": "markdown",
   "id": "45f6e778",
   "metadata": {},
   "source": [
    "Dataset\n",
    "--\n",
    "The dataset for the project is sourced from kaggle, originating from www.crowdflower.com/data-for-everyone, the data was scraped from twitter in February 2015, all the tweets that were scraped were also classified and labelled as positive, negative or neutral, followed by categorising negative reason. Since then the dataset has been slightly reformatted, and is in CSV format.\n",
    "\n",
    "The CSV file has 15 columns of different data types, and a total of 14640, rows total.\n",
    "\n",
    "Columns with text values are the tweets’s sentiment, the reason for negative sentiment, the airline, the name of the person who made the tweet, the tweet’s text and the tweet’s location and timezone\n",
    "\n",
    "Columns containing numerical values are, tweet’s ID, sentiment confidence values, retweet count.\n",
    "\n",
    "The Column containing date value is just the tweet creation date.\n",
    "\n",
    "The data has to be pre processed prior to feeding it to a model for training, only after that exploratory data analysis can be done on the dataset.\n"
   ]
  },
  {
   "cell_type": "markdown",
   "id": "95bfefdc",
   "metadata": {},
   "source": [
    "Evaluation Methodology\n",
    "--\n",
    "To verify the model is performing well, evaluation against it would have to be done. To do this, the model's accuracy, precision, recall and F1 score, confusion matrix will be used as its evaluation metrics.\n",
    "\n",
    "Accuracy score of the model will measure how many predictions the model can make correctly, calculated by dividing the correct predictions the model makes by all predictions made. Having a good accuracy means that our model is trained well and can make correct predictions.\n",
    "\n",
    "Precision measures how often the model makes correct predictions and has false positives. the model having a high precision would make the threshold of the classifier higher, reducing the number of false positives \n",
    "\n",
    "Recall measures how often correct predictions are wrong and have false negatives. Having a high recall means that there will be fewer false negatives, as the model threshold would be lower, making more classification as positive.\n",
    "\n",
    "F1 score combines is the balance of precision and recall, having a high f1 score would mean that we have both precision and recall.\n",
    "\n",
    "Confusion matrix put everything together in a visualisation in table form.\n"
   ]
  },
  {
   "cell_type": "markdown",
   "id": "8f7fe89a",
   "metadata": {},
   "source": [
    "II. Implementation\n",
    "==\n",
    "Data Preprocessing\n",
    "--\n",
    "To ensure the model is fed with good data that has features that can be extracted, the data has to be preprocessed.\n",
    "\n",
    "In the following section, cleaning that data would be done."
   ]
  },
  {
   "cell_type": "code",
   "execution_count": 1,
   "id": "da695107",
   "metadata": {},
   "outputs": [],
   "source": [
    "#import libraries\n",
    "import pandas as pd\n",
    "import numpy as np\n",
    "import seaborn as sns\n",
    "import matplotlib.pyplot as plt\n",
    "import re\n",
    "import nltk\n",
    "from nltk.corpus import stopwords\n",
    "from sklearn.model_selection import train_test_split\n",
    "from mlxtend.plotting import plot_confusion_matrix\n",
    "from sklearn.tree import DecisionTreeClassifier\n",
    "from sklearn.ensemble import RandomForestClassifier\n",
    "from sklearn.metrics import accuracy_score,confusion_matrix,classification_report"
   ]
  },
  {
   "cell_type": "code",
   "execution_count": 2,
   "id": "de619a1a",
   "metadata": {},
   "outputs": [],
   "source": [
    "#import data\n",
    "data = pd.read_csv('datasets/Tweets.csv')"
   ]
  },
  {
   "cell_type": "code",
   "execution_count": 3,
   "id": "a5b846ca",
   "metadata": {},
   "outputs": [
    {
     "data": {
      "text/plain": [
       "(14640, 15)"
      ]
     },
     "execution_count": 3,
     "metadata": {},
     "output_type": "execute_result"
    }
   ],
   "source": [
    "#show total rows and columns of data\n",
    "data.shape"
   ]
  },
  {
   "cell_type": "code",
   "execution_count": 4,
   "id": "cb528eec",
   "metadata": {
    "scrolled": true
   },
   "outputs": [
    {
     "data": {
      "text/html": [
       "<div>\n",
       "<style scoped>\n",
       "    .dataframe tbody tr th:only-of-type {\n",
       "        vertical-align: middle;\n",
       "    }\n",
       "\n",
       "    .dataframe tbody tr th {\n",
       "        vertical-align: top;\n",
       "    }\n",
       "\n",
       "    .dataframe thead th {\n",
       "        text-align: right;\n",
       "    }\n",
       "</style>\n",
       "<table border=\"1\" class=\"dataframe\">\n",
       "  <thead>\n",
       "    <tr style=\"text-align: right;\">\n",
       "      <th></th>\n",
       "      <th>tweet_id</th>\n",
       "      <th>airline_sentiment</th>\n",
       "      <th>airline_sentiment_confidence</th>\n",
       "      <th>negativereason</th>\n",
       "      <th>negativereason_confidence</th>\n",
       "      <th>airline</th>\n",
       "      <th>airline_sentiment_gold</th>\n",
       "      <th>name</th>\n",
       "      <th>negativereason_gold</th>\n",
       "      <th>retweet_count</th>\n",
       "      <th>text</th>\n",
       "      <th>tweet_coord</th>\n",
       "      <th>tweet_created</th>\n",
       "      <th>tweet_location</th>\n",
       "      <th>user_timezone</th>\n",
       "    </tr>\n",
       "  </thead>\n",
       "  <tbody>\n",
       "    <tr>\n",
       "      <th>0</th>\n",
       "      <td>570306133677760513</td>\n",
       "      <td>neutral</td>\n",
       "      <td>1.0000</td>\n",
       "      <td>NaN</td>\n",
       "      <td>NaN</td>\n",
       "      <td>Virgin America</td>\n",
       "      <td>NaN</td>\n",
       "      <td>cairdin</td>\n",
       "      <td>NaN</td>\n",
       "      <td>0</td>\n",
       "      <td>@VirginAmerica What @dhepburn said.</td>\n",
       "      <td>NaN</td>\n",
       "      <td>2015-02-24 11:35:52 -0800</td>\n",
       "      <td>NaN</td>\n",
       "      <td>Eastern Time (US &amp; Canada)</td>\n",
       "    </tr>\n",
       "    <tr>\n",
       "      <th>1</th>\n",
       "      <td>570301130888122368</td>\n",
       "      <td>positive</td>\n",
       "      <td>0.3486</td>\n",
       "      <td>NaN</td>\n",
       "      <td>0.0000</td>\n",
       "      <td>Virgin America</td>\n",
       "      <td>NaN</td>\n",
       "      <td>jnardino</td>\n",
       "      <td>NaN</td>\n",
       "      <td>0</td>\n",
       "      <td>@VirginAmerica plus you've added commercials t...</td>\n",
       "      <td>NaN</td>\n",
       "      <td>2015-02-24 11:15:59 -0800</td>\n",
       "      <td>NaN</td>\n",
       "      <td>Pacific Time (US &amp; Canada)</td>\n",
       "    </tr>\n",
       "    <tr>\n",
       "      <th>2</th>\n",
       "      <td>570301083672813571</td>\n",
       "      <td>neutral</td>\n",
       "      <td>0.6837</td>\n",
       "      <td>NaN</td>\n",
       "      <td>NaN</td>\n",
       "      <td>Virgin America</td>\n",
       "      <td>NaN</td>\n",
       "      <td>yvonnalynn</td>\n",
       "      <td>NaN</td>\n",
       "      <td>0</td>\n",
       "      <td>@VirginAmerica I didn't today... Must mean I n...</td>\n",
       "      <td>NaN</td>\n",
       "      <td>2015-02-24 11:15:48 -0800</td>\n",
       "      <td>Lets Play</td>\n",
       "      <td>Central Time (US &amp; Canada)</td>\n",
       "    </tr>\n",
       "    <tr>\n",
       "      <th>3</th>\n",
       "      <td>570301031407624196</td>\n",
       "      <td>negative</td>\n",
       "      <td>1.0000</td>\n",
       "      <td>Bad Flight</td>\n",
       "      <td>0.7033</td>\n",
       "      <td>Virgin America</td>\n",
       "      <td>NaN</td>\n",
       "      <td>jnardino</td>\n",
       "      <td>NaN</td>\n",
       "      <td>0</td>\n",
       "      <td>@VirginAmerica it's really aggressive to blast...</td>\n",
       "      <td>NaN</td>\n",
       "      <td>2015-02-24 11:15:36 -0800</td>\n",
       "      <td>NaN</td>\n",
       "      <td>Pacific Time (US &amp; Canada)</td>\n",
       "    </tr>\n",
       "    <tr>\n",
       "      <th>4</th>\n",
       "      <td>570300817074462722</td>\n",
       "      <td>negative</td>\n",
       "      <td>1.0000</td>\n",
       "      <td>Can't Tell</td>\n",
       "      <td>1.0000</td>\n",
       "      <td>Virgin America</td>\n",
       "      <td>NaN</td>\n",
       "      <td>jnardino</td>\n",
       "      <td>NaN</td>\n",
       "      <td>0</td>\n",
       "      <td>@VirginAmerica and it's a really big bad thing...</td>\n",
       "      <td>NaN</td>\n",
       "      <td>2015-02-24 11:14:45 -0800</td>\n",
       "      <td>NaN</td>\n",
       "      <td>Pacific Time (US &amp; Canada)</td>\n",
       "    </tr>\n",
       "  </tbody>\n",
       "</table>\n",
       "</div>"
      ],
      "text/plain": [
       "             tweet_id airline_sentiment  airline_sentiment_confidence  \\\n",
       "0  570306133677760513           neutral                        1.0000   \n",
       "1  570301130888122368          positive                        0.3486   \n",
       "2  570301083672813571           neutral                        0.6837   \n",
       "3  570301031407624196          negative                        1.0000   \n",
       "4  570300817074462722          negative                        1.0000   \n",
       "\n",
       "  negativereason  negativereason_confidence         airline  \\\n",
       "0            NaN                        NaN  Virgin America   \n",
       "1            NaN                     0.0000  Virgin America   \n",
       "2            NaN                        NaN  Virgin America   \n",
       "3     Bad Flight                     0.7033  Virgin America   \n",
       "4     Can't Tell                     1.0000  Virgin America   \n",
       "\n",
       "  airline_sentiment_gold        name negativereason_gold  retweet_count  \\\n",
       "0                    NaN     cairdin                 NaN              0   \n",
       "1                    NaN    jnardino                 NaN              0   \n",
       "2                    NaN  yvonnalynn                 NaN              0   \n",
       "3                    NaN    jnardino                 NaN              0   \n",
       "4                    NaN    jnardino                 NaN              0   \n",
       "\n",
       "                                                text tweet_coord  \\\n",
       "0                @VirginAmerica What @dhepburn said.         NaN   \n",
       "1  @VirginAmerica plus you've added commercials t...         NaN   \n",
       "2  @VirginAmerica I didn't today... Must mean I n...         NaN   \n",
       "3  @VirginAmerica it's really aggressive to blast...         NaN   \n",
       "4  @VirginAmerica and it's a really big bad thing...         NaN   \n",
       "\n",
       "               tweet_created tweet_location               user_timezone  \n",
       "0  2015-02-24 11:35:52 -0800            NaN  Eastern Time (US & Canada)  \n",
       "1  2015-02-24 11:15:59 -0800            NaN  Pacific Time (US & Canada)  \n",
       "2  2015-02-24 11:15:48 -0800      Lets Play  Central Time (US & Canada)  \n",
       "3  2015-02-24 11:15:36 -0800            NaN  Pacific Time (US & Canada)  \n",
       "4  2015-02-24 11:14:45 -0800            NaN  Pacific Time (US & Canada)  "
      ]
     },
     "execution_count": 4,
     "metadata": {},
     "output_type": "execute_result"
    }
   ],
   "source": [
    "#view the first 5 rows of data\n",
    "data.head()"
   ]
  },
  {
   "cell_type": "code",
   "execution_count": 5,
   "id": "a9e49443",
   "metadata": {
    "scrolled": true
   },
   "outputs": [
    {
     "data": {
      "text/plain": [
       "Index(['tweet_id', 'airline_sentiment', 'airline_sentiment_confidence',\n",
       "       'negativereason', 'negativereason_confidence', 'airline',\n",
       "       'airline_sentiment_gold', 'name', 'negativereason_gold',\n",
       "       'retweet_count', 'text', 'tweet_coord', 'tweet_created',\n",
       "       'tweet_location', 'user_timezone'],\n",
       "      dtype='object')"
      ]
     },
     "execution_count": 5,
     "metadata": {},
     "output_type": "execute_result"
    }
   ],
   "source": [
    "#view columns of the data\n",
    "data.columns"
   ]
  },
  {
   "cell_type": "code",
   "execution_count": 6,
   "id": "5ce03e93",
   "metadata": {
    "scrolled": false
   },
   "outputs": [
    {
     "name": "stdout",
     "output_type": "stream",
     "text": [
      "<class 'pandas.core.frame.DataFrame'>\n",
      "RangeIndex: 14640 entries, 0 to 14639\n",
      "Data columns (total 15 columns):\n",
      " #   Column                        Non-Null Count  Dtype  \n",
      "---  ------                        --------------  -----  \n",
      " 0   tweet_id                      14640 non-null  int64  \n",
      " 1   airline_sentiment             14640 non-null  object \n",
      " 2   airline_sentiment_confidence  14640 non-null  float64\n",
      " 3   negativereason                9178 non-null   object \n",
      " 4   negativereason_confidence     10522 non-null  float64\n",
      " 5   airline                       14640 non-null  object \n",
      " 6   airline_sentiment_gold        40 non-null     object \n",
      " 7   name                          14640 non-null  object \n",
      " 8   negativereason_gold           32 non-null     object \n",
      " 9   retweet_count                 14640 non-null  int64  \n",
      " 10  text                          14640 non-null  object \n",
      " 11  tweet_coord                   1019 non-null   object \n",
      " 12  tweet_created                 14640 non-null  object \n",
      " 13  tweet_location                9907 non-null   object \n",
      " 14  user_timezone                 9820 non-null   object \n",
      "dtypes: float64(2), int64(2), object(11)\n",
      "memory usage: 1.7+ MB\n"
     ]
    }
   ],
   "source": [
    "#check info the data\n",
    "data.info()"
   ]
  },
  {
   "cell_type": "markdown",
   "id": "ab7de5aa",
   "metadata": {},
   "source": [
    "As can be seen above, each column's data type. No action to change any data type is required."
   ]
  },
  {
   "cell_type": "code",
   "execution_count": 7,
   "id": "614a657f",
   "metadata": {},
   "outputs": [
    {
     "data": {
      "text/plain": [
       "tweet_id                            0\n",
       "airline_sentiment                   0\n",
       "airline_sentiment_confidence        0\n",
       "negativereason                   5462\n",
       "negativereason_confidence        4118\n",
       "airline                             0\n",
       "airline_sentiment_gold          14600\n",
       "name                                0\n",
       "negativereason_gold             14608\n",
       "retweet_count                       0\n",
       "text                                0\n",
       "tweet_coord                     13621\n",
       "tweet_created                       0\n",
       "tweet_location                   4733\n",
       "user_timezone                    4820\n",
       "dtype: int64"
      ]
     },
     "execution_count": 7,
     "metadata": {},
     "output_type": "execute_result"
    }
   ],
   "source": [
    "#check for null values in the data\n",
    "data.isnull().sum()"
   ]
  },
  {
   "cell_type": "markdown",
   "id": "b60e56db",
   "metadata": {},
   "source": [
    "As can be seen from the above, there a multiple rows with null values, however, filling them in might cause the machine learning model to pick up the wrong pattern so for now they will be left blank.\n",
    "\n",
    "Important column that will be used such as, text is not empty thus the dataset is still usable."
   ]
  },
  {
   "cell_type": "code",
   "execution_count": 8,
   "id": "94fc2e06",
   "metadata": {},
   "outputs": [
    {
     "name": "stdout",
     "output_type": "stream",
     "text": [
      "Percentage null or na values in df\n"
     ]
    },
    {
     "data": {
      "text/plain": [
       "tweet_id                         0.00\n",
       "airline_sentiment                0.00\n",
       "airline_sentiment_confidence     0.00\n",
       "negativereason                  37.31\n",
       "negativereason_confidence       28.13\n",
       "airline                          0.00\n",
       "airline_sentiment_gold          99.73\n",
       "name                             0.00\n",
       "negativereason_gold             99.78\n",
       "retweet_count                    0.00\n",
       "text                             0.00\n",
       "tweet_coord                     93.04\n",
       "tweet_created                    0.00\n",
       "tweet_location                  32.33\n",
       "user_timezone                   32.92\n",
       "dtype: float64"
      ]
     },
     "execution_count": 8,
     "metadata": {},
     "output_type": "execute_result"
    }
   ],
   "source": [
    "print(\"Percentage null or na values in df\")\n",
    "((data.isnull() | data.isna()).sum() * 100 / data.index.size).round(2)"
   ]
  },
  {
   "cell_type": "markdown",
   "id": "5b502655",
   "metadata": {},
   "source": [
    "The columns, airline_sentiment_gold, negativereason_gold have more than 99% missing data as well as tweet_coord have nearly 93% missing data. \n",
    "\n",
    "Removing these columns would do no harm as they will not provide and constructive insights."
   ]
  },
  {
   "cell_type": "code",
   "execution_count": 9,
   "id": "86e0b1c5",
   "metadata": {
    "scrolled": true
   },
   "outputs": [],
   "source": [
    "#del columns that are not needed\n",
    "del data['tweet_coord']\n",
    "del data['airline_sentiment_gold']\n",
    "del data['negativereason_gold']"
   ]
  },
  {
   "cell_type": "code",
   "execution_count": 10,
   "id": "4c6ae058",
   "metadata": {},
   "outputs": [
    {
     "data": {
      "text/plain": [
       "negativereason\n",
       "Bad Flight                      580\n",
       "Can't Tell                     1190\n",
       "Cancelled Flight                847\n",
       "Customer Service Issue         2910\n",
       "Damaged Luggage                  74\n",
       "Flight Attendant Complaints     481\n",
       "Flight Booking Problems         529\n",
       "Late Flight                    1665\n",
       "Lost Luggage                    724\n",
       "longlines                       178\n",
       "dtype: int64"
      ]
     },
     "execution_count": 10,
     "metadata": {},
     "output_type": "execute_result"
    }
   ],
   "source": [
    "negreason_freq = data.groupby('negativereason').size()\n",
    "negreason_freq"
   ]
  },
  {
   "cell_type": "markdown",
   "id": "ace4215a",
   "metadata": {},
   "source": [
    "Even though the negative reason column has empty rows, this can be attributed to the design of the data, thus the data will be left as is and not fill in the blank spaces so as to not skew the data."
   ]
  },
  {
   "cell_type": "markdown",
   "id": "bd258186",
   "metadata": {},
   "source": [
    "Data Visualisation\n",
    "--\n",
    "Data visualisation can help to give insights into the data, allowing for feature selections to train the model on.\n",
    "\n",
    "In the following section interesting points of the data will be shown."
   ]
  },
  {
   "cell_type": "code",
   "execution_count": 11,
   "id": "0e975052",
   "metadata": {
    "scrolled": true
   },
   "outputs": [
    {
     "data": {
      "text/plain": [
       "Text(0.5, 1.0, 'Count of Type of Sentiment')"
      ]
     },
     "execution_count": 11,
     "metadata": {},
     "output_type": "execute_result"
    },
    {
     "data": {
      "image/png": "[encoded data removed]",
      "text/plain": [
       "<Figure size 864x432 with 1 Axes>"
      ]
     },
     "metadata": {
      "needs_background": "light"
     },
     "output_type": "display_data"
    }
   ],
   "source": [
    "counter = data.airline_sentiment.value_counts()\n",
    "index = [1,2,3]\n",
    "plt.figure(1,figsize=(12,6))\n",
    "plt.bar(index,counter,color=['red','blue','green'])\n",
    "plt.xticks(index,['negative','neutral','positive'],rotation=0)\n",
    "plt.xlabel('Sentiment Type')\n",
    "plt.ylabel('Sentiment Count')\n",
    "plt.title('Count of Type of Sentiment')"
   ]
  },
  {
   "cell_type": "markdown",
   "id": "ebf47826",
   "metadata": {},
   "source": [
    "It can be observed that most of the reviews are negative."
   ]
  },
  {
   "cell_type": "code",
   "execution_count": 12,
   "id": "c6eb697e",
   "metadata": {},
   "outputs": [
    {
     "data": {
      "text/plain": [
       "array(['Virgin America', 'United', 'Southwest', 'Delta', 'US Airways',\n",
       "       'American'], dtype=object)"
      ]
     },
     "execution_count": 12,
     "metadata": {},
     "output_type": "execute_result"
    }
   ],
   "source": [
    "#check unqiue airlines in dataset\n",
    "data['airline'].unique()"
   ]
  },
  {
   "cell_type": "code",
   "execution_count": 13,
   "id": "3b605f04",
   "metadata": {},
   "outputs": [
    {
     "name": "stdout",
     "output_type": "stream",
     "text": [
      "Total number of tweets for each airline \n",
      "  airline\n",
      "United            3822\n",
      "US Airways        2913\n",
      "American          2759\n",
      "Southwest         2420\n",
      "Delta             2222\n",
      "Virgin America     504\n",
      "Name: airline_sentiment, dtype: int64\n"
     ]
    },
    {
     "data": {
      "image/png": "[encoded data removed]",
      "text/plain": [
       "<Figure size 864x864 with 6 Axes>"
      ]
     },
     "metadata": {
      "needs_background": "light"
     },
     "output_type": "display_data"
    }
   ],
   "source": [
    "print(\"Total number of tweets for each airline \\n \",data.groupby('airline')['airline_sentiment'].count().sort_values(ascending=False))\n",
    "airlines= ['US Airways','United','American','Southwest','Delta','Virgin America']\n",
    "plt.figure(1,figsize=(12, 12))\n",
    "for i in airlines:\n",
    "    indices= airlines.index(i)\n",
    "    plt.subplot(2,3,indices+1)\n",
    "    new_df=data[data['airline']==i]\n",
    "    count=new_df['airline_sentiment'].value_counts()\n",
    "    Index = [1,2,3]\n",
    "    plt.bar(Index,count, color=['red', 'blue', 'green'])\n",
    "    plt.xticks(Index,['negative','neutral','positive'])\n",
    "    plt.ylabel('Sentiment Count')\n",
    "    plt.xlabel('Sentiment Type')\n",
    "    plt.title('Count of Sentiment of '+i)"
   ]
  },
  {
   "cell_type": "markdown",
   "id": "7a0b8f77",
   "metadata": {},
   "source": [
    "Next to reduce the amount of data that the model has to go through, text cleaning will be done.\n",
    "\n",
    "Removing stop words, words with little to no meaning in a sentence,"
   ]
  },
  {
   "cell_type": "code",
   "execution_count": 14,
   "id": "ffd031fc",
   "metadata": {},
   "outputs": [],
   "source": [
    "def clean_tweets(tweet):\n",
    "    letters_only = re.sub(\"[^a-zA-Z]\", \" \",tweet) \n",
    "    words = letters_only.lower().split()                             \n",
    "    stops = set(stopwords.words(\"english\"))                  \n",
    "    meaningful_words = [w for w in words if not w in stops] \n",
    "    return( \" \".join( meaningful_words ))"
   ]
  },
  {
   "cell_type": "code",
   "execution_count": 15,
   "id": "e88818a9",
   "metadata": {
    "scrolled": false
   },
   "outputs": [
    {
     "name": "stderr",
     "output_type": "stream",
     "text": [
      "[nltk_data] Downloading package stopwords to C:\\Users\\Grego\n",
      "[nltk_data]     Laptop\\AppData\\Roaming\\nltk_data...\n",
      "[nltk_data]   Package stopwords is already up-to-date!\n"
     ]
    }
   ],
   "source": [
    "nltk.download('stopwords')\n",
    "data['clean_tweets'] = data['text'].apply(lambda x: clean_tweets(x))"
   ]
  },
  {
   "cell_type": "code",
   "execution_count": 16,
   "id": "22de4021",
   "metadata": {},
   "outputs": [
    {
     "name": "stdout",
     "output_type": "stream",
     "text": [
      "14640 14640\n"
     ]
    }
   ],
   "source": [
    "x = data.clean_tweets\n",
    "y = data.airline_sentiment\n",
    "\n",
    "print(len(x), len(y))"
   ]
  },
  {
   "cell_type": "markdown",
   "id": "3d8ddd64",
   "metadata": {},
   "source": [
    "Baseline model\n",
    "--\n",
    "\n",
    "For the baseline model, an SVM will be employ SVM are easy to deploy and use for text classification as they generalise well with high dimensional space."
   ]
  },
  {
   "cell_type": "code",
   "execution_count": 17,
   "id": "b9754283",
   "metadata": {},
   "outputs": [],
   "source": [
    "x_train, x_test, y_train, y_test = train_test_split(x, y, random_state=42)"
   ]
  },
  {
   "cell_type": "markdown",
   "id": "f61c1b90",
   "metadata": {},
   "source": [
    "Convert the tweets into a matrix of token counts, creating a bag of words for the SVM"
   ]
  },
  {
   "cell_type": "code",
   "execution_count": 18,
   "id": "1f56e616",
   "metadata": {},
   "outputs": [
    {
     "data": {
      "text/html": [
       "<style>#sk-container-id-1 {color: black;}#sk-container-id-1 pre{padding: 0;}#sk-container-id-1 div.sk-toggleable {background-color: white;}#sk-container-id-1 label.sk-toggleable__label {cursor: pointer;display: block;width: 100%;margin-bottom: 0;padding: 0.3em;box-sizing: border-box;text-align: center;}#sk-container-id-1 label.sk-toggleable__label-arrow:before {content: \"▸\";float: left;margin-right: 0.25em;color: #696969;}#sk-container-id-1 label.sk-toggleable__label-arrow:hover:before {color: black;}#sk-container-id-1 div.sk-estimator:hover label.sk-toggleable__label-arrow:before {color: black;}#sk-container-id-1 div.sk-toggleable__content {max-height: 0;max-width: 0;overflow: hidden;text-align: left;background-color: #f0f8ff;}#sk-container-id-1 div.sk-toggleable__content pre {margin: 0.2em;color: black;border-radius: 0.25em;background-color: #f0f8ff;}#sk-container-id-1 input.sk-toggleable__control:checked~div.sk-toggleable__content {max-height: 200px;max-width: 100%;overflow: auto;}#sk-container-id-1 input.sk-toggleable__control:checked~label.sk-toggleable__label-arrow:before {content: \"▾\";}#sk-container-id-1 div.sk-estimator input.sk-toggleable__control:checked~label.sk-toggleable__label {background-color: #d4ebff;}#sk-container-id-1 div.sk-label input.sk-toggleable__control:checked~label.sk-toggleable__label {background-color: #d4ebff;}#sk-container-id-1 input.sk-hidden--visually {border: 0;clip: rect(1px 1px 1px 1px);clip: rect(1px, 1px, 1px, 1px);height: 1px;margin: -1px;overflow: hidden;padding: 0;position: absolute;width: 1px;}#sk-container-id-1 div.sk-estimator {font-family: monospace;background-color: #f0f8ff;border: 1px dotted black;border-radius: 0.25em;box-sizing: border-box;margin-bottom: 0.5em;}#sk-container-id-1 div.sk-estimator:hover {background-color: #d4ebff;}#sk-container-id-1 div.sk-parallel-item::after {content: \"\";width: 100%;border-bottom: 1px solid gray;flex-grow: 1;}#sk-container-id-1 div.sk-label:hover label.sk-toggleable__label {background-color: #d4ebff;}#sk-container-id-1 div.sk-serial::before {content: \"\";position: absolute;border-left: 1px solid gray;box-sizing: border-box;top: 0;bottom: 0;left: 50%;z-index: 0;}#sk-container-id-1 div.sk-serial {display: flex;flex-direction: column;align-items: center;background-color: white;padding-right: 0.2em;padding-left: 0.2em;position: relative;}#sk-container-id-1 div.sk-item {position: relative;z-index: 1;}#sk-container-id-1 div.sk-parallel {display: flex;align-items: stretch;justify-content: center;background-color: white;position: relative;}#sk-container-id-1 div.sk-item::before, #sk-container-id-1 div.sk-parallel-item::before {content: \"\";position: absolute;border-left: 1px solid gray;box-sizing: border-box;top: 0;bottom: 0;left: 50%;z-index: -1;}#sk-container-id-1 div.sk-parallel-item {display: flex;flex-direction: column;z-index: 1;position: relative;background-color: white;}#sk-container-id-1 div.sk-parallel-item:first-child::after {align-self: flex-end;width: 50%;}#sk-container-id-1 div.sk-parallel-item:last-child::after {align-self: flex-start;width: 50%;}#sk-container-id-1 div.sk-parallel-item:only-child::after {width: 0;}#sk-container-id-1 div.sk-dashed-wrapped {border: 1px dashed gray;margin: 0 0.4em 0.5em 0.4em;box-sizing: border-box;padding-bottom: 0.4em;background-color: white;}#sk-container-id-1 div.sk-label label {font-family: monospace;font-weight: bold;display: inline-block;line-height: 1.2em;}#sk-container-id-1 div.sk-label-container {text-align: center;}#sk-container-id-1 div.sk-container {/* jupyter's `normalize.less` sets `[hidden] { display: none; }` but bootstrap.min.css set `[hidden] { display: none !important; }` so we also need the `!important` here to be able to override the default hidden behavior on the sphinx rendered scikit-learn.org. See: https://github.com/scikit-learn/scikit-learn/issues/21755 */display: inline-block !important;position: relative;}#sk-container-id-1 div.sk-text-repr-fallback {display: none;}</style><div id=\"sk-container-id-1\" class=\"sk-top-container\"><div class=\"sk-text-repr-fallback\"><pre>CountVectorizer()</pre><b>In a Jupyter environment, please rerun this cell to show the HTML representation or trust the notebook. <br />On GitHub, the HTML representation is unable to render, please try loading this page with nbviewer.org.</b></div><div class=\"sk-container\" hidden><div class=\"sk-item\"><div class=\"sk-estimator sk-toggleable\"><input class=\"sk-toggleable__control sk-hidden--visually\" id=\"sk-estimator-id-1\" type=\"checkbox\" checked><label for=\"sk-estimator-id-1\" class=\"sk-toggleable__label sk-toggleable__label-arrow\">CountVectorizer</label><div class=\"sk-toggleable__content\"><pre>CountVectorizer()</pre></div></div></div></div></div>"
      ],
      "text/plain": [
       "CountVectorizer()"
      ]
     },
     "execution_count": 18,
     "metadata": {},
     "output_type": "execute_result"
    }
   ],
   "source": [
    "from sklearn.feature_extraction.text import CountVectorizer\n",
    "\n",
    "# instantiate the vectorizer\n",
    "vect = CountVectorizer()\n",
    "vect.fit(x_train)"
   ]
  },
  {
   "cell_type": "code",
   "execution_count": 19,
   "id": "357ad9f9",
   "metadata": {},
   "outputs": [],
   "source": [
    "#convert and store training and test data into matrix\n",
    "x_train_dtm = vect.transform(x_train)\n",
    "x_test_dtm = vect.transform(x_test)"
   ]
  },
  {
   "cell_type": "code",
   "execution_count": 20,
   "id": "4a8a718b",
   "metadata": {
    "scrolled": true
   },
   "outputs": [
    {
     "data": {
      "text/html": [
       "<style>#sk-container-id-2 {color: black;}#sk-container-id-2 pre{padding: 0;}#sk-container-id-2 div.sk-toggleable {background-color: white;}#sk-container-id-2 label.sk-toggleable__label {cursor: pointer;display: block;width: 100%;margin-bottom: 0;padding: 0.3em;box-sizing: border-box;text-align: center;}#sk-container-id-2 label.sk-toggleable__label-arrow:before {content: \"▸\";float: left;margin-right: 0.25em;color: #696969;}#sk-container-id-2 label.sk-toggleable__label-arrow:hover:before {color: black;}#sk-container-id-2 div.sk-estimator:hover label.sk-toggleable__label-arrow:before {color: black;}#sk-container-id-2 div.sk-toggleable__content {max-height: 0;max-width: 0;overflow: hidden;text-align: left;background-color: #f0f8ff;}#sk-container-id-2 div.sk-toggleable__content pre {margin: 0.2em;color: black;border-radius: 0.25em;background-color: #f0f8ff;}#sk-container-id-2 input.sk-toggleable__control:checked~div.sk-toggleable__content {max-height: 200px;max-width: 100%;overflow: auto;}#sk-container-id-2 input.sk-toggleable__control:checked~label.sk-toggleable__label-arrow:before {content: \"▾\";}#sk-container-id-2 div.sk-estimator input.sk-toggleable__control:checked~label.sk-toggleable__label {background-color: #d4ebff;}#sk-container-id-2 div.sk-label input.sk-toggleable__control:checked~label.sk-toggleable__label {background-color: #d4ebff;}#sk-container-id-2 input.sk-hidden--visually {border: 0;clip: rect(1px 1px 1px 1px);clip: rect(1px, 1px, 1px, 1px);height: 1px;margin: -1px;overflow: hidden;padding: 0;position: absolute;width: 1px;}#sk-container-id-2 div.sk-estimator {font-family: monospace;background-color: #f0f8ff;border: 1px dotted black;border-radius: 0.25em;box-sizing: border-box;margin-bottom: 0.5em;}#sk-container-id-2 div.sk-estimator:hover {background-color: #d4ebff;}#sk-container-id-2 div.sk-parallel-item::after {content: \"\";width: 100%;border-bottom: 1px solid gray;flex-grow: 1;}#sk-container-id-2 div.sk-label:hover label.sk-toggleable__label {background-color: #d4ebff;}#sk-container-id-2 div.sk-serial::before {content: \"\";position: absolute;border-left: 1px solid gray;box-sizing: border-box;top: 0;bottom: 0;left: 50%;z-index: 0;}#sk-container-id-2 div.sk-serial {display: flex;flex-direction: column;align-items: center;background-color: white;padding-right: 0.2em;padding-left: 0.2em;position: relative;}#sk-container-id-2 div.sk-item {position: relative;z-index: 1;}#sk-container-id-2 div.sk-parallel {display: flex;align-items: stretch;justify-content: center;background-color: white;position: relative;}#sk-container-id-2 div.sk-item::before, #sk-container-id-2 div.sk-parallel-item::before {content: \"\";position: absolute;border-left: 1px solid gray;box-sizing: border-box;top: 0;bottom: 0;left: 50%;z-index: -1;}#sk-container-id-2 div.sk-parallel-item {display: flex;flex-direction: column;z-index: 1;position: relative;background-color: white;}#sk-container-id-2 div.sk-parallel-item:first-child::after {align-self: flex-end;width: 50%;}#sk-container-id-2 div.sk-parallel-item:last-child::after {align-self: flex-start;width: 50%;}#sk-container-id-2 div.sk-parallel-item:only-child::after {width: 0;}#sk-container-id-2 div.sk-dashed-wrapped {border: 1px dashed gray;margin: 0 0.4em 0.5em 0.4em;box-sizing: border-box;padding-bottom: 0.4em;background-color: white;}#sk-container-id-2 div.sk-label label {font-family: monospace;font-weight: bold;display: inline-block;line-height: 1.2em;}#sk-container-id-2 div.sk-label-container {text-align: center;}#sk-container-id-2 div.sk-container {/* jupyter's `normalize.less` sets `[hidden] { display: none; }` but bootstrap.min.css set `[hidden] { display: none !important; }` so we also need the `!important` here to be able to override the default hidden behavior on the sphinx rendered scikit-learn.org. See: https://github.com/scikit-learn/scikit-learn/issues/21755 */display: inline-block !important;position: relative;}#sk-container-id-2 div.sk-text-repr-fallback {display: none;}</style><div id=\"sk-container-id-2\" class=\"sk-top-container\"><div class=\"sk-text-repr-fallback\"><pre>CountVectorizer(max_df=0.7, max_features=100, min_df=0.1, ngram_range=(1, 2),\n",
       "                stop_words=&#x27;english&#x27;)</pre><b>In a Jupyter environment, please rerun this cell to show the HTML representation or trust the notebook. <br />On GitHub, the HTML representation is unable to render, please try loading this page with nbviewer.org.</b></div><div class=\"sk-container\" hidden><div class=\"sk-item\"><div class=\"sk-estimator sk-toggleable\"><input class=\"sk-toggleable__control sk-hidden--visually\" id=\"sk-estimator-id-2\" type=\"checkbox\" checked><label for=\"sk-estimator-id-2\" class=\"sk-toggleable__label sk-toggleable__label-arrow\">CountVectorizer</label><div class=\"sk-toggleable__content\"><pre>CountVectorizer(max_df=0.7, max_features=100, min_df=0.1, ngram_range=(1, 2),\n",
       "                stop_words=&#x27;english&#x27;)</pre></div></div></div></div></div>"
      ],
      "text/plain": [
       "CountVectorizer(max_df=0.7, max_features=100, min_df=0.1, ngram_range=(1, 2),\n",
       "                stop_words='english')"
      ]
     },
     "execution_count": 20,
     "metadata": {},
     "output_type": "execute_result"
    }
   ],
   "source": [
    "vect_tunned = CountVectorizer(stop_words='english', ngram_range=(1,2), min_df=0.1, max_df=0.7, max_features=100)\n",
    "vect_tunned"
   ]
  },
  {
   "cell_type": "code",
   "execution_count": 21,
   "id": "33eae061",
   "metadata": {},
   "outputs": [],
   "source": [
    "#training SVM model with linear kernel\n",
    "#Support Vector Classification-wrapper around SVM\n",
    "from sklearn.svm import SVC\n",
    "svm_model = SVC(kernel='linear', random_state = 10)\n",
    "svm_model.fit(x_train_dtm, y_train)\n",
    "#predicting output for test data\n",
    "pred = svm_model.predict(x_test_dtm)"
   ]
  },
  {
   "cell_type": "code",
   "execution_count": 22,
   "id": "ae06f1cb",
   "metadata": {},
   "outputs": [
    {
     "name": "stdout",
     "output_type": "stream",
     "text": [
      "Accuracy  : 0.7730\n"
     ]
    }
   ],
   "source": [
    "#accuracy score\n",
    "acc = accuracy_score(y_test,pred)\n",
    "\n",
    "\n",
    "print('Accuracy  : {:.4f}'.format(acc))"
   ]
  },
  {
   "cell_type": "code",
   "execution_count": 23,
   "id": "dab80f30",
   "metadata": {
    "scrolled": true
   },
   "outputs": [
    {
     "name": "stdout",
     "output_type": "stream",
     "text": [
      "              precision    recall  f1-score   support\n",
      "\n",
      "    negative       0.85      0.87      0.86      2340\n",
      "     neutral       0.56      0.54      0.55       738\n",
      "    positive       0.72      0.70      0.71       582\n",
      "\n",
      "    accuracy                           0.77      3660\n",
      "   macro avg       0.71      0.70      0.71      3660\n",
      "weighted avg       0.77      0.77      0.77      3660\n",
      "\n"
     ]
    }
   ],
   "source": [
    "print(classification_report(y_test,pred))"
   ]
  },
  {
   "cell_type": "markdown",
   "id": "043af638",
   "metadata": {},
   "source": [
    "The baseline model performance is quite high, all the accuracies are above 0.33, meaning that the model performs better than random labelling, as there are just 3 classes."
   ]
  },
  {
   "cell_type": "markdown",
   "id": "ad4bcf92",
   "metadata": {},
   "source": [
    "Improved Model\n",
    "--\n",
    "With the improved model, Using a LSTM allows for customisation and building a model that can cater to the task at hand. The objective for this model is to beat the baseline model and be more accurate than the baseline model.\n",
    "\n",
    "LSTM is a form of Recurrent Neural Network which is suited to text classification as they have a short term memory, meaning they can increase their performance by memorising relevant information.\n"
   ]
  },
  {
   "cell_type": "code",
   "execution_count": 24,
   "id": "f309178f",
   "metadata": {},
   "outputs": [],
   "source": [
    "#import required libraries\n",
    "from keras.models import Sequential, load_model\n",
    "from keras.layers import Dense, LSTM, Bidirectional,Embedding, Dropout, Conv1D, MaxPooling1D\n",
    "from keras.preprocessing.text import Tokenizer\n",
    "from keras.utils import pad_sequences\n",
    "from keras.utils.vis_utils import plot_model\n",
    "from keras.callbacks import EarlyStopping"
   ]
  },
  {
   "cell_type": "markdown",
   "id": "7112c6e6",
   "metadata": {},
   "source": [
    "Preprocess text differently for the LSTM"
   ]
  },
  {
   "cell_type": "code",
   "execution_count": 25,
   "id": "9aa00558",
   "metadata": {
    "scrolled": true
   },
   "outputs": [],
   "source": [
    "max_words = 5000\n",
    "max_len = 100\n",
    "\n",
    "def tokenize_pad_sequences(text):\n",
    "\n",
    "    # Text tokenization\n",
    "    tokenizer = Tokenizer(num_words=max_words, lower=True, split=' ')\n",
    "    tokenizer.fit_on_texts(text)\n",
    "    # Transforms text to a sequence of integers\n",
    "    X = tokenizer.texts_to_sequences(text)\n",
    "    # Pad sequences to the same length\n",
    "    X = pad_sequences(X, padding='post', maxlen=max_len)\n",
    "    # return sequences\n",
    "    return X, tokenizer\n",
    "\n",
    "X, tokenizer = tokenize_pad_sequences(data['clean_tweets'])"
   ]
  },
  {
   "cell_type": "code",
   "execution_count": 26,
   "id": "cba1ffeb",
   "metadata": {},
   "outputs": [],
   "source": [
    "y = pd.get_dummies(data.airline_sentiment)\n",
    "X_trn, X_tst, y_trn, y_tst = train_test_split(X, y, test_size=0.2, random_state=42, stratify=y)\n",
    "X_trn, X_vld, y_trn, y_vld = train_test_split(X_trn, y_trn, test_size=0.3, random_state=42, stratify=y_trn)\n"
   ]
  },
  {
   "cell_type": "code",
   "execution_count": 27,
   "id": "667d136a",
   "metadata": {},
   "outputs": [],
   "source": [
    "vocab_size = 5000\n",
    "embedding_size = 32\n",
    "epochs=50\n",
    "\n",
    "lstm_model = Sequential()\n",
    "lstm_model.add(Embedding(vocab_size, embedding_size, input_length=max_len))\n",
    "lstm_model.add(Conv1D(filters=32, kernel_size=3, padding='same', activation='relu'))\n",
    "lstm_model.add(MaxPooling1D(pool_size=2))\n",
    "lstm_model.add(Bidirectional(LSTM(32)))\n",
    "lstm_model.add(Dropout(0.4))\n",
    "lstm_model.add(Dense(3, activation='softmax'))"
   ]
  },
  {
   "cell_type": "markdown",
   "id": "8921a1b3",
   "metadata": {},
   "source": [
    "building the model as shown above, consisting of an embbedding layer, convolution layer, max pooling layer, LSTM layer, dropout and dense layer\n",
    "\n",
    "model loss function is categorical_crossentropy as multi label classification and optimiser for the model is adam."
   ]
  },
  {
   "cell_type": "code",
   "execution_count": 28,
   "id": "afbae1ba",
   "metadata": {
    "scrolled": true
   },
   "outputs": [
    {
     "name": "stdout",
     "output_type": "stream",
     "text": [
      "Model: \"sequential\"\n",
      "_________________________________________________________________\n",
      " Layer (type)                Output Shape              Param #   \n",
      "=================================================================\n",
      " embedding (Embedding)       (None, 100, 32)           160000    \n",
      "                                                                 \n",
      " conv1d (Conv1D)             (None, 100, 32)           3104      \n",
      "                                                                 \n",
      " max_pooling1d (MaxPooling1D  (None, 50, 32)           0         \n",
      " )                                                               \n",
      "                                                                 \n",
      " bidirectional (Bidirectiona  (None, 64)               16640     \n",
      " l)                                                              \n",
      "                                                                 \n",
      " dropout (Dropout)           (None, 64)                0         \n",
      "                                                                 \n",
      " dense (Dense)               (None, 3)                 195       \n",
      "                                                                 \n",
      "=================================================================\n",
      "Total params: 179,939\n",
      "Trainable params: 179,939\n",
      "Non-trainable params: 0\n",
      "_________________________________________________________________\n",
      "None\n"
     ]
    }
   ],
   "source": [
    "lstm_model.compile(loss='categorical_crossentropy', optimizer='adam', metrics=['accuracy'])\n",
    "print(lstm_model.summary())"
   ]
  },
  {
   "cell_type": "code",
   "execution_count": 29,
   "id": "bda72162",
   "metadata": {
    "scrolled": true
   },
   "outputs": [
    {
     "name": "stdout",
     "output_type": "stream",
     "text": [
      "Epoch 1/50\n",
      "129/129 [==============================] - 5s 22ms/step - loss: 0.8432 - accuracy: 0.6387 - val_loss: 0.6614 - val_accuracy: 0.7223\n",
      "Epoch 2/50\n",
      "129/129 [==============================] - 2s 19ms/step - loss: 0.5843 - accuracy: 0.7538 - val_loss: 0.5945 - val_accuracy: 0.7629\n",
      "Epoch 3/50\n",
      "129/129 [==============================] - 6s 45ms/step - loss: 0.4645 - accuracy: 0.8147 - val_loss: 0.6006 - val_accuracy: 0.7681\n",
      "Epoch 4/50\n",
      "129/129 [==============================] - 3s 24ms/step - loss: 0.3866 - accuracy: 0.8562 - val_loss: 0.6295 - val_accuracy: 0.7607\n",
      "Epoch 5/50\n",
      "129/129 [==============================] - 5s 41ms/step - loss: 0.3107 - accuracy: 0.8878 - val_loss: 0.6888 - val_accuracy: 0.7701\n",
      "Epoch 6/50\n",
      "129/129 [==============================] - 4s 29ms/step - loss: 0.2474 - accuracy: 0.9149 - val_loss: 0.7575 - val_accuracy: 0.7738\n",
      "Epoch 7/50\n",
      "129/129 [==============================] - 6s 43ms/step - loss: 0.1941 - accuracy: 0.9354 - val_loss: 0.8212 - val_accuracy: 0.7655\n"
     ]
    }
   ],
   "source": [
    "es = EarlyStopping(monitor = 'val_loss', patience=5)\n",
    "batch_size = 64\n",
    "\n",
    "history = lstm_model.fit(X_trn, y_trn,\n",
    "                    validation_data=(X_vld, y_vld),\n",
    "                    batch_size=batch_size, epochs=epochs, verbose=1,\n",
    "                    callbacks = [es])"
   ]
  },
  {
   "cell_type": "code",
   "execution_count": 30,
   "id": "f05213ef",
   "metadata": {},
   "outputs": [
    {
     "name": "stdout",
     "output_type": "stream",
     "text": [
      "Accuracy  : 0.7657\n"
     ]
    }
   ],
   "source": [
    "# Evaluate model on the test set\n",
    "loss, accuracy = lstm_model.evaluate(X_tst, y_tst, verbose=0)\n",
    "\n",
    "print('Accuracy  : {:.4f}'.format(accuracy))"
   ]
  },
  {
   "cell_type": "code",
   "execution_count": 31,
   "id": "7fc985c0",
   "metadata": {},
   "outputs": [
    {
     "data": {
      "image/png": "[encoded data removed]",
      "text/plain": [
       "<Figure size 864x288 with 2 Axes>"
      ]
     },
     "metadata": {
      "needs_background": "light"
     },
     "output_type": "display_data"
    }
   ],
   "source": [
    "plt.figure(figsize=(12, 4))\n",
    "\n",
    "plt.subplot(1, 2, 1)\n",
    "plt.plot(history.history['loss'], 'b--', label = 'loss')\n",
    "plt.plot(history.history['val_loss'], 'r:', label = 'val_loss')\n",
    "plt.xlabel('Epochs')\n",
    "plt.legend()\n",
    "\n",
    "plt.subplot(1, 2, 2)\n",
    "plt.plot(history.history['accuracy'], 'b--', label = 'acc')\n",
    "plt.plot(history.history['val_accuracy'], 'r:', label = 'val_acc')\n",
    "plt.xlabel('Epochs')\n",
    "plt.legend()\n",
    "\n",
    "plt.show()"
   ]
  },
  {
   "cell_type": "markdown",
   "id": "3ad7d90b",
   "metadata": {},
   "source": [
    "as can be seen from the graph the model is overfitting,and losing accuracy on validation tests."
   ]
  },
  {
   "cell_type": "code",
   "execution_count": 32,
   "id": "ea22975b",
   "metadata": {},
   "outputs": [
    {
     "name": "stdout",
     "output_type": "stream",
     "text": [
      "92/92 [==============================] - 1s 4ms/step\n"
     ]
    },
    {
     "data": {
      "image/png": "[encoded data removed]",
      "text/plain": [
       "<Figure size 576x432 with 2 Axes>"
      ]
     },
     "metadata": {
      "needs_background": "light"
     },
     "output_type": "display_data"
    }
   ],
   "source": [
    "from sklearn.metrics import confusion_matrix\n",
    "\n",
    "#plot confusion matrix for the passed model and the data\n",
    "def plot_confusion_matrix(model, X_test, y_test):\n",
    "    \n",
    "    \n",
    "    sentiment_classes = ['Negative', 'Neutral', 'Positive']\n",
    "    # use model to do the prediction\n",
    "    y_pred = lstm_model.predict(X_test)\n",
    "    # compute confusion matrix\n",
    "    cm = confusion_matrix(np.argmax(np.array(y_test),axis=1), np.argmax(y_pred, axis=1))\n",
    "    # plot confusion matrix\n",
    "    plt.figure(figsize=(8,6))\n",
    "    sns.heatmap(cm, cmap=plt.cm.Blues, annot=True, fmt='d', \n",
    "                xticklabels=sentiment_classes,\n",
    "                yticklabels=sentiment_classes)\n",
    "    plt.title('Confusion matrix', fontsize=16)\n",
    "    plt.xlabel('Actual label', fontsize=12)\n",
    "    plt.ylabel('Predicted label', fontsize=12)\n",
    "    \n",
    "plot_confusion_matrix(lstm_model, X_tst, y_tst)"
   ]
  },
  {
   "cell_type": "markdown",
   "id": "21b742f4",
   "metadata": {},
   "source": [
    "\n",
    "III. Conclusions\n",
    "==\n",
    "\n",
    "Evaluation\n",
    "--\n",
    "From the metrics of each classifier both of them perform better than random.\n",
    "\n",
    "The SVM got an accuracy of 0.7730 while the LSTM model got an accuracy of 0.7657.\n",
    "\n",
    "Both of the model would be useful to evaluate the sentiments of reviews, both model can be further improved by training them on larger datasets.\n",
    "\n",
    "The SVM model would hit a maximum of training however, with the LSTM model, more layers can be added and training can be done for more epochs, the accuracy still can be increased.\n",
    "\n",
    "The LSTM would still be a more perferable model with time as customising can be done will the SVM model cannot be further improved by itself, just increasing training data would come to a limit.\n",
    "\n",
    "\n",
    "Summary \n",
    "--\n",
    "Accurate review classification would let airline and passengers know the status of the airline, airlines can make effective data driven decision making to apply effort into the correct places, keeping passengers happy and thus increasing their profits further.\n",
    "\n",
    "This help both parties out, and can promote the interconnectiveity of the world as a whole.\n",
    "\n",
    "The LSTM model is very basic in this project and not very generalised, but with an even larger dataset and more time training, the model can more generalised for sentiment analysis. LSTM models are suited to the task of text classification as they are RNNs, since it is built from the ground up it can be easliy adjusted to different training data.\n",
    "\n"
   ]
  },
  {
   "cell_type": "markdown",
   "id": "e262bd29",
   "metadata": {},
   "source": [
    "References\n",
    "--\n",
    "\n",
    "“Twitter US Airline Sentiment.” Www.kaggle.com, www.kaggle.com/datasets/crowdflower/twitter-airline-sentiment.\n",
    "\n"
   ]
  }
 ],
 "metadata": {
  "kernelspec": {
   "display_name": "Python 3 (ipykernel)",
   "language": "python",
   "name": "python3"
  },
  "language_info": {
   "codemirror_mode": {
    "name": "ipython",
    "version": 3
   },
   "file_extension": ".py",
   "mimetype": "text/x-python",
   "name": "python",
   "nbconvert_exporter": "python",
   "pygments_lexer": "ipython3",
   "version": "3.9.7"
  }
 },
 "nbformat": 4,
 "nbformat_minor": 5
}
